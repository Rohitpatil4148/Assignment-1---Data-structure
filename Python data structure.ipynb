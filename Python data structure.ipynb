{
 "cells": [
  {
   "cell_type": "code",
   "execution_count": null,
   "metadata": {
    "id": "9RceqKkzpmhh"
   },
   "outputs": [],
   "source": [
    "#1) Write a code to reverse a string\n",
    "str1 = \"I am Rohit\"\n",
    "str1[::-1]"
   ]
  },
  {
   "cell_type": "code",
   "execution_count": null,
   "metadata": {
    "id": "kHtqxnh1IICp"
   },
   "outputs": [],
   "source": [
    "#2) Write a code to count the number of vowels in a string\n",
    "string=\"my name is rohit patil\"\n",
    "vowel = (\"a\",\"e\",\"i\",\"o\",\"u\")\n",
    "count = 0\n",
    "\n",
    "for vow in string:\n",
    "  if vow in vowel:\n",
    "    count+=1\n",
    "print (count)"
   ]
  },
  {
   "cell_type": "code",
   "execution_count": null,
   "metadata": {
    "id": "3rmNifaBuwgc"
   },
   "outputs": [],
   "source": [
    " #3) Write a code to check if a given string is a palindrome or not\n",
    "n=\"RADAR\"\n",
    "\n",
    "if n==n[::-1]:\n",
    "  print (\"string is palindrome\")\n",
    "else:\n",
    "  print(\"string is not palindrome\")"
   ]
  },
  {
   "cell_type": "code",
   "execution_count": null,
   "metadata": {
    "id": "H9K5SyDAu2OT"
   },
   "outputs": [],
   "source": [
    "#4) Write a code to check if two given strings are anagrams of each other\n",
    "\n",
    "s1=\"listen\"\n",
    "s2=\"silent\"\n",
    "\n",
    "if sorted(s1)==sorted(s2):\n",
    "  print (\"anagrams strings\")\n",
    "else:\n",
    "  print (\"Not anagrams string\")"
   ]
  },
  {
   "cell_type": "code",
   "execution_count": 4,
   "metadata": {
    "colab": {
     "base_uri": "https://localhost:8080/"
    },
    "id": "WLpWLGNsu6pQ",
    "outputId": "4b2f47d4-c35b-4aaf-df42-45e47503fc53"
   },
   "outputs": [
    {
     "name": "stdout",
     "output_type": "stream",
     "text": [
      "5\n"
     ]
    }
   ],
   "source": [
    "#5) Write a code to find all occurrences of a given substring within another string\n",
    "myStr = \"I am python for beginners. I provide free python tutorials for you to learn python.\"\n",
    "substr = \"python\"\n",
    "print(myStr.find(substr))\n"
   ]
  },
  {
   "cell_type": "code",
   "execution_count": 3,
   "metadata": {
    "colab": {
     "base_uri": "https://localhost:8080/"
    },
    "id": "09Y-fdI3vCkc",
    "outputId": "f9595d09-da06-413d-f365-57e8371ff34b"
   },
   "outputs": [
    {
     "name": "stdout",
     "output_type": "stream",
     "text": [
      "ab3a6c2da3b\n"
     ]
    }
   ],
   "source": [
    "#6) Write a code to perform basic string compression using the counts of repeated characters\n",
    "def solve(s):\n",
    "   res = \"\"\n",
    "   cnt = 1\n",
    "   for i in range(1, len(s)):\n",
    "      if s[i - 1] == s[i]:\n",
    "         cnt += 1\n",
    "      else:\n",
    "         res = res + s[i - 1]\n",
    "         if cnt > 1:\n",
    "            res += str(cnt)\n",
    "         cnt = 1\n",
    "   res = res + s[-1]\n",
    "   if cnt > 1:\n",
    "      res += str(cnt)\n",
    "   return res\n",
    "\n",
    "s = \"abbbaaaaaaccdaaab\"\n",
    "print(solve(s))\n"
   ]
  },
  {
   "cell_type": "code",
   "execution_count": null,
   "metadata": {
    "id": "SOsCKm_5vFvg"
   },
   "outputs": [],
   "source": [
    "#7) Write a code to determine if a string has all unique characters\n"
   ]
  },
  {
   "cell_type": "code",
   "execution_count": null,
   "metadata": {
    "id": "0qnAzZDVvH7u"
   },
   "outputs": [],
   "source": [
    "#8) Write a code to convert a given string to uppercase or lowercase\n",
    "name = \"Rohit\"\n",
    "surname = \"paTil\"\n",
    "\n",
    "name.upper()\n",
    "surname.lower()"
   ]
  },
  {
   "cell_type": "code",
   "execution_count": null,
   "metadata": {
    "id": "Oi0Ix7OvvKvo"
   },
   "outputs": [],
   "source": [
    "#9) Write a code to count the number of words in a string\n",
    "a = \"rohit_damini\"\n",
    "len(a)"
   ]
  },
  {
   "cell_type": "code",
   "execution_count": null,
   "metadata": {
    "id": "I-1POuzFvSQc"
   },
   "outputs": [],
   "source": [
    "#10) Write a code to concatenate two strings without using the + operator\n",
    "\n",
    "str1=\"welcome\"\n",
    "str2=\"guest\"\n",
    "\n",
    "concat=\" \".join([str1,str2])\n",
    "print(concat)"
   ]
  },
  {
   "cell_type": "code",
   "execution_count": null,
   "metadata": {
    "id": "8vfHgd_bvafx"
   },
   "outputs": [],
   "source": [
    "#11) Write a code to remove all occurrences of a specific element from a list\n",
    "list1 = [1, 2, 3, 4, 1, 1, 1, 4, 5]\n",
    "\n",
    "while (list1.count(1)):\n",
    "    list1.remove(1)\n",
    "\n",
    "print(list1)\n"
   ]
  },
  {
   "cell_type": "code",
   "execution_count": null,
   "metadata": {
    "id": "sDZnQbJfvg61"
   },
   "outputs": [],
   "source": [
    "#12) Implement a code to find the second largest number in a given list of integers\n",
    "list1 = [10, 20, 20, 4, 45, 45, 45, 99, 99]\n",
    "\n",
    "list2= list(set(list1))\n",
    "\n",
    "list2.sort()\n",
    "\n",
    "print (\"second largest nember is:\" ,list2[-2])\n"
   ]
  },
  {
   "cell_type": "code",
   "execution_count": null,
   "metadata": {
    "id": "hi1_-qOVvjlT"
   },
   "outputs": [],
   "source": [
    "#13) Create a code to count the occurrences of each element in a list and return a dictionary with elements as keys and their counts as values\n"
   ]
  },
  {
   "cell_type": "code",
   "execution_count": null,
   "metadata": {
    "id": "BTANxDI_vwVO"
   },
   "outputs": [],
   "source": [
    "#14) Write a code to reverse a list in-place without using any built-in reverse functions\n",
    "given_list = [\"A\",\"B\",\"C\",\"D\"]\n",
    "\n",
    "reverse_list = given_list [::-1]\n",
    "\n",
    "print (reverse_list)"
   ]
  },
  {
   "cell_type": "code",
   "execution_count": null,
   "metadata": {
    "id": "Qm3GZr8qSCin"
   },
   "outputs": [],
   "source": [
    "#15)  Implement a code to find and remove duplicates from a list while preserving the original order of elements\n"
   ]
  },
  {
   "cell_type": "code",
   "execution_count": null,
   "metadata": {
    "id": "IXWeHm8EQVGZ"
   },
   "outputs": [],
   "source": [
    "# 16) Create a code to check if a given list is sorted (either in ascending or descending order) or not\n",
    "test_list = [10, 4, 5, 8, 10]\n",
    "\n",
    "# printing original list\n",
    "print (\"Original list : \" + str(test_list))\n",
    "\n",
    "# using sort() to\n",
    "# check sorted list\n",
    "flag = 0\n",
    "test_list1 = test_list[:]\n",
    "test_list1.sort()\n",
    "if (test_list1 == test_list):\n",
    "    flag = 1\n",
    "\n",
    "# printing result\n",
    "if (flag) :\n",
    "    print (\"Yes, List is sorted.\")\n",
    "else :\n",
    "    print (\"No, List is not sorted.\")"
   ]
  },
  {
   "cell_type": "code",
   "execution_count": null,
   "metadata": {
    "id": "tmDT6Sz5QcZ6"
   },
   "outputs": [],
   "source": [
    "# 17) Write a code to merge two sorted lists into a single sorted list\n",
    "test_list1 = [1, 5, 6, 9, 11]\n",
    "test_list2 = [3, 4, 7, 8, 10]\n",
    "\n",
    "test_list1.extend(test_list2)\n",
    "test_list1.sort()\n",
    "test_list1"
   ]
  },
  {
   "cell_type": "code",
   "execution_count": null,
   "metadata": {
    "id": "j5eMwXgTQps6"
   },
   "outputs": [],
   "source": [
    "# 18) Implement a code to find the intersection of two given lists\n",
    "\n",
    "def intersection_list(list1, list2):\n",
    "   return set(list1).intersection(list2)\n",
    "\n",
    "list1 = [40, 90, 11, 58, 31, 66, 28, 54, 79]\n",
    "list2 = [58, 90, 54, 31, 45, 11, 66, 28, 26]\n",
    "\n",
    "print(intersection_list(list1, list2))"
   ]
  },
  {
   "cell_type": "code",
   "execution_count": null,
   "metadata": {
    "id": "BtnKdf0WQwAV"
   },
   "outputs": [],
   "source": [
    "# 19) Create a code to find the union of two lists without duplicates\n",
    "\n",
    "first_list = [1, 2, 2, 5]\n",
    "second_list = [2, 5, 7, 9]\n",
    "\n",
    "unionoflist = list(set(first_list)|set(second_list))\n",
    "unionoflist"
   ]
  },
  {
   "cell_type": "code",
   "execution_count": null,
   "metadata": {
    "id": "EVUw7JM6Q2BT"
   },
   "outputs": [],
   "source": [
    "# 20) Write a code to shuffle a given list randomly without using any built-in shuffle functions"
   ]
  },
  {
   "cell_type": "code",
   "execution_count": null,
   "metadata": {
    "id": "bSL-U0oPQ7j-"
   },
   "outputs": [],
   "source": [
    "# 21) Write a code that takes two tuples as input and returns a new tuple containing elements that are common to both input tuples\n",
    "t1 = (1,2,3,4)\n",
    "t2 = (3,4,5,6)\n",
    "\n",
    "common_list = list(set(t1)&set(t2))\n",
    "print (\"t3:\", common_list)"
   ]
  },
  {
   "cell_type": "code",
   "execution_count": null,
   "metadata": {
    "id": "7SIlcyicQ__W"
   },
   "outputs": [],
   "source": [
    "# 22) Create a code that prompts the user to enter two sets of integers separated by commas. Then, print the intersection of these two sets.\n",
    "\n",
    "s1 = {1,2,3,4,5}\n",
    "s2 = {4,5,6,7,8}\n",
    "\n",
    "print (s1&s2)"
   ]
  },
  {
   "cell_type": "code",
   "execution_count": null,
   "metadata": {
    "id": "2efj8bYdRHny"
   },
   "outputs": [],
   "source": [
    "# 23) Write a code to concatenate two tuples. The function should take two tuples as input and return a new tuple containing elements from both input tuples\n",
    "t1 = (\"a\",\"b\",\"c\",\"d\")\n",
    "t2 = (\"c\",\"d\",\"e\",\"f\")\n",
    "\n",
    "t1+t2"
   ]
  },
  {
   "cell_type": "code",
   "execution_count": null,
   "metadata": {
    "id": "kC3tvf1qROCt"
   },
   "outputs": [],
   "source": [
    "# 24) Develop a code that prompts the user to input two sets of strings. Then, print the elements that are present in the first set but not in the second set\n",
    "\n",
    "str1 = (\"a\",\"b\",\"c\",\"d\")\n",
    "str2 = (\"c\",\"d\",\"e\",\"f\")\n",
    "\n",
    "str(set(str1)-set(str2))"
   ]
  },
  {
   "cell_type": "code",
   "execution_count": 5,
   "metadata": {
    "id": "p7x4UD3NRUKB"
   },
   "outputs": [],
   "source": [
    "# 25) Create a code that takes a tuple and two integers as input.\n",
    "#The function should return a new tuple containing elements from the original tuple within the specified range of indices"
   ]
  },
  {
   "cell_type": "code",
   "execution_count": null,
   "metadata": {
    "id": "fG5wUYjzRYiC"
   },
   "outputs": [],
   "source": [
    "# 26) Write a code that prompts the user to input two sets of characters. Then, print the union of these two sets\n",
    "\n",
    "s1 = {\"a\",\"b\",\"c\",\"d\"}\n",
    "s2 = {\"c\",\"d\",\"e\",\"f\"}\n",
    "\n",
    "s1|s2"
   ]
  },
  {
   "cell_type": "code",
   "execution_count": 7,
   "metadata": {
    "id": "KVyFVI10RgOe"
   },
   "outputs": [],
   "source": [
    "# 27) Develop a code that takes a tuple of integers as input. The function should return the maximum and minimum values from the tuple using tuple unpacking"
   ]
  },
  {
   "cell_type": "code",
   "execution_count": null,
   "metadata": {
    "id": "C7nyENw5R2G8"
   },
   "outputs": [],
   "source": [
    "#28) Create a code that defines two sets of integers. Then, print the union, intersection, and difference of these two sets\n",
    "\n",
    "set1 = {\"A\",\"B\",\"C\",\"D\"}\n",
    "set2 = {\"D\",\"E\",\"F\",\"G\"}\n",
    "\n",
    "# print the union\n",
    "print (set1|set2)\n",
    "\n",
    "# print the intersection\n",
    "print (set1&set2)\n",
    "\n",
    "# print difference\n",
    "print (set1-set2)"
   ]
  },
  {
   "cell_type": "code",
   "execution_count": null,
   "metadata": {
    "id": "1b1O5B89R8Oq"
   },
   "outputs": [],
   "source": [
    "#  29) Write a code that takes a tuple and an element as input. The function should return the count of occurrences of the given element in the tuple.\n",
    "tuple1 = (1,1,2,2,4,5,6,3,2,)\n",
    "\n",
    "tuple1.count(2)"
   ]
  },
  {
   "cell_type": "code",
   "execution_count": null,
   "metadata": {
    "id": "zFOEpMosSB47"
   },
   "outputs": [],
   "source": [
    "# 30) Develop a code that prompts the user to input two sets of strings. Then, print the symmetric difference of these two sets.\n",
    "\n",
    "set1 = {\"A\",\"B\",\"C\",\"D\"}\n",
    "set2 = {\"D\",\"E\",\"F\",\"G\"}\n",
    "\n",
    "# print the symmetric difference\n",
    "\n",
    "set1 ^ set2"
   ]
  },
  {
   "cell_type": "code",
   "execution_count": null,
   "metadata": {
    "id": "SQMJHh_3SfhZ"
   },
   "outputs": [],
   "source": [
    "# 31) Write a code that takes a list of words as input and returns a dictionary where the keys are unique words and the values are the frequencies of those words in the input list.\n",
    "\n",
    "food = {\n",
    "    2015: [\"Apple\", \"Milk\", \"Cookie\", \"Banana\", \"Orange\"],\n",
    "    2016: [\"Potato\", \"Orange\", \"Chocolate\", \"Milk\", \"Mango\"],\n",
    "    2017: [\"Fish\", \"Potato\", \"Orange\", \"Mango\", \"Banana\"],\n",
    "    2018: [\"Beef\", \"Porn\", \"Fish\", \"Apple\", \"Cookie\"],\n",
    "    2019: [\"Pork\", \"Orange\", \"Apple\", \"Mango\", \"Chocolate\"]\n",
    "}\n",
    "\n",
    "counts = {}\n",
    "for year in food:\n",
    "    for item in food[year]:\n",
    "        counts[item] = counts.get(item, 0) + 1\n",
    "\n",
    "print(counts)"
   ]
  },
  {
   "cell_type": "code",
   "execution_count": null,
   "metadata": {
    "id": "zU_EzVuaSl89"
   },
   "outputs": [],
   "source": [
    "# 32) Write a code that takes two dictionaries as input and merges them into a single dictionary. If there are common keys, the values should be added together.\n",
    "\n",
    "dict1 = {'a': 12, 'for': 25, 'c': 9}\n",
    "dict2 = {'Geeks': 100, 'geek': 200, 'for': 300}\n",
    "\n",
    "# calculating resultant dictionary\n",
    "c = {i: dict1.get(i, 0) + dict2.get(i, 0)\n",
    "     for i in set(dict1).union(dict2)}\n",
    "\n",
    "# printing result\n",
    "print(c)"
   ]
  },
  {
   "cell_type": "code",
   "execution_count": null,
   "metadata": {
    "id": "954zD8S8Sqyq"
   },
   "outputs": [],
   "source": [
    "# 33) Write a code to access a value in a nested dictionary. The function should take the dictionary and a list of\n",
    "#keys as input, and return the corresponding value. If any of the keys do not exist in the dictionary, the\n",
    "#function should return None"
   ]
  },
  {
   "cell_type": "code",
   "execution_count": null,
   "metadata": {
    "id": "WP8_vYalSuzS"
   },
   "outputs": [],
   "source": [
    "# 34) Write a code that takes a dictionary as input and returns a sorted version of it based on the values.\n",
    "#You can choose whether to sort in ascending or descending order"
   ]
  },
  {
   "cell_type": "code",
   "execution_count": null,
   "metadata": {
    "id": "42cdz2ADS09s"
   },
   "outputs": [],
   "source": [
    "#35)  Write a code that inverts a dictionary, swapping keys and values.\n",
    "#Ensure that the inverted dictionary correctly handles cases where multiple keys have the same value by storing the keys as a list in the inverted dictionary."
   ]
  }
 ],
 "metadata": {
  "colab": {
   "provenance": []
  },
  "kernelspec": {
   "display_name": "Python 3 (ipykernel)",
   "language": "python",
   "name": "python3"
  },
  "language_info": {
   "codemirror_mode": {
    "name": "ipython",
    "version": 3
   },
   "file_extension": ".py",
   "mimetype": "text/x-python",
   "name": "python",
   "nbconvert_exporter": "python",
   "pygments_lexer": "ipython3",
   "version": "3.10.8"
  }
 },
 "nbformat": 4,
 "nbformat_minor": 4
}
